{
 "cells": [
  {
   "cell_type": "markdown",
   "metadata": {},
   "source": [
    "# Module\n",
    "* A module i a file containing Python definitions and statements.\n",
    "* Statements to initialize the module are executed only the first time the module name is encountered in an import statement.\n",
    "* Modules can import other modules."
   ]
  },
  {
   "cell_type": "markdown",
   "metadata": {},
   "source": [
    "In **fibo.py**\n",
    "\n",
    "![fibo.py](fibo.py.png)\n",
    "\n",
    "We can import this file as module and use its functions."
   ]
  },
  {
   "cell_type": "code",
   "execution_count": null,
   "metadata": {},
   "outputs": [],
   "source": [
    "import fibo\n",
    "fibo.fib(1000)"
   ]
  },
  {
   "cell_type": "code",
   "execution_count": null,
   "metadata": {},
   "outputs": [],
   "source": [
    "fibo.fib2(200)"
   ]
  },
  {
   "cell_type": "code",
   "execution_count": null,
   "metadata": {},
   "outputs": [],
   "source": [
    "fibo.__name__"
   ]
  },
  {
   "cell_type": "markdown",
   "metadata": {},
   "source": [
    "We can also import the definitions from `fibo.py` directly into the current namespace."
   ]
  },
  {
   "cell_type": "code",
   "execution_count": null,
   "metadata": {},
   "outputs": [],
   "source": [
    "from fibo import fib\n",
    "fib(500)"
   ]
  },
  {
   "cell_type": "code",
   "execution_count": null,
   "metadata": {},
   "outputs": [],
   "source": [
    "fib2(100) # not defined since this was not imported"
   ]
  },
  {
   "cell_type": "code",
   "execution_count": null,
   "metadata": {},
   "outputs": [],
   "source": [
    "from fibo import * #import all defined identifiers\n",
    "fib2(100)"
   ]
  },
  {
   "cell_type": "markdown",
   "metadata": {},
   "source": [
    "### dir()\n",
    "The built-in function `dir()` is used to find out which names a module defines."
   ]
  },
  {
   "cell_type": "code",
   "execution_count": null,
   "metadata": {},
   "outputs": [],
   "source": [
    "dir(fibo)"
   ]
  },
  {
   "cell_type": "markdown",
   "metadata": {},
   "source": [
    "## __main__\n",
    "Adding ```if __name__ == \"__main__\":``` to `fibo.py` we can execute specific code, if `fibo.py` is invoced from the command line.\n",
    "![Commandline](fibo_main.png)"
   ]
  },
  {
   "cell_type": "markdown",
   "metadata": {},
   "source": [
    "## Packages\n",
    "Packages are a way to structure Python's module namespace by using \"dotted module manes\". For example, the module name `A.B` designates a submodule named `B` in a package named `A`.\n",
    "\n",
    "#### Package structure\n",
    "```\n",
    "my_math/             #Top-level package\n",
    "    __init__.py      # Initialize the package\n",
    "    fibo/            # Subpackage\n",
    "```\n",
    "[Package installing](https://packaging.python.org/tutorials/installing-packages/)"
   ]
  },
  {
   "cell_type": "markdown",
   "metadata": {},
   "source": [
    "## Exercise #4: Create modules\n",
    "\n",
    "Create the two missing modules to make [exercise4.py](exercise4.py) run.\n",
    "\n",
    "Hints:\n",
    "  - In Python 2, there is a general string type for representing both text and binary data. But, in Python 3, str is used to represent `unicode` text and `bytes` is used to represent binary data. Between `unicode` and `bytes`, we use encode and decode to convert one to the other, i.e., `string.decode() = bytes; bytes.encode = string`\n",
    "  - Use `base64` to encode and decode a binary string ([reference](https://docs.python.org/2/library/base64.html))."
   ]
  },
  {
   "cell_type": "code",
   "execution_count": null,
   "metadata": {},
   "outputs": [],
   "source": []
  }
 ],
 "metadata": {
  "kernelspec": {
   "display_name": "Python 3",
   "language": "python",
   "name": "python3"
  },
  "language_info": {
   "codemirror_mode": {
    "name": "ipython",
    "version": 3
   },
   "file_extension": ".py",
   "mimetype": "text/x-python",
   "name": "python",
   "nbconvert_exporter": "python",
   "pygments_lexer": "ipython3",
   "version": "3.7.2"
  }
 },
 "nbformat": 4,
 "nbformat_minor": 2
}
