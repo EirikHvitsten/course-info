{
 "cells": [
  {
   "cell_type": "markdown",
   "metadata": {},
   "source": [
    "# Reading and Writing Files\n",
    "File commands:\n",
    "    * `open` opens the file\n",
    "    * `close` closes the file\n",
    "    * `read` reads the contents of the file\n",
    "    * `readline` reads just one line of a text file\n",
    "    * `truncate` empties the file (carefull)\n",
    "    * `write(stuff)` writes stuff to the file"
   ]
  },
  {
   "cell_type": "markdown",
   "metadata": {},
   "source": [
    "### `open(filename, mode)`\n",
    "returns a file object. \n",
    "* The first argument is a string containing the filename. \n",
    "* The second argument is another string containing a few characters describing the way in which the file will be used.\n",
    "\n",
    "    `mode`\n",
    "        'r' only read\n",
    "        'w' only write\n",
    "        'a' opens the file for appending to the end\n",
    "        'r+' opens the file for both reading and writing.\n",
    "    `mode` is optional. The default is `'r'`."
   ]
  },
  {
   "cell_type": "code",
   "execution_count": null,
   "metadata": {},
   "outputs": [],
   "source": [
    "# open and close\n",
    "f = open('text/mytext.txt', 'r')\n",
    "f.close()\n",
    "# or \n",
    "with open('text/mytext.txt', 'a') as f:\n",
    "    f.write('\\ngood bye')"
   ]
  },
  {
   "cell_type": "markdown",
   "metadata": {},
   "source": [
    "### `read()`\n",
    "`f.read(size)` reads at most `size` bytes from `f`.\n",
    "\n",
    "`f.read()` reads the complete file."
   ]
  },
  {
   "cell_type": "code",
   "execution_count": null,
   "metadata": {},
   "outputs": [],
   "source": [
    "# this will not work because of the false mode.\n",
    "with open('text/mytext.txt', 'a') as f:\n",
    "    print(f.read())"
   ]
  },
  {
   "cell_type": "code",
   "execution_count": null,
   "metadata": {},
   "outputs": [],
   "source": [
    "with open('text/mytext.txt', 'r') as f:\n",
    "    print(f.read())"
   ]
  },
  {
   "cell_type": "markdown",
   "metadata": {},
   "source": [
    "### `readline()`\n",
    "`f.readline()` reads a single line for the file.\n",
    "\n",
    "A newline character `\\n` is left at the end of the string, and is only omitted on the last line of the file, if the file does not end in a newline."
   ]
  },
  {
   "cell_type": "code",
   "execution_count": null,
   "metadata": {},
   "outputs": [],
   "source": [
    "with open('text/mytext.txt', 'r') as f:\n",
    "    print(f.readline()) # first line\n",
    "    print(f.readline()) # second line"
   ]
  },
  {
   "cell_type": "code",
   "execution_count": null,
   "metadata": {},
   "outputs": [],
   "source": [
    "with open('text/mytext.txt', 'r') as f:\n",
    "    i = 0\n",
    "    for line in f:\n",
    "        print(line, i)\n",
    "        i +=1"
   ]
  },
  {
   "cell_type": "markdown",
   "metadata": {},
   "source": [
    "If you want to read all lines in a file you can also use: `list(f)` or `f.readlines()`"
   ]
  },
  {
   "cell_type": "code",
   "execution_count": null,
   "metadata": {},
   "outputs": [],
   "source": [
    "with open('text/mytext.txt', 'r') as f:\n",
    "    print(f.readlines())\n",
    "    print(list(f))\n",
    "    "
   ]
  },
  {
   "cell_type": "markdown",
   "metadata": {},
   "source": [
    "### `write()`\n",
    "* `f.write(string)` writes `string` to the file, returning the number of characters written.\n",
    "* other objects need to be converted, either to a string or a bytes object."
   ]
  },
  {
   "cell_type": "code",
   "execution_count": null,
   "metadata": {},
   "outputs": [],
   "source": [
    "value = ('the answer', 42)\n",
    "s = str(value) # convert tuple to string\n",
    "with open('text/mytext.txt', 'w') as f:\n",
    "    f.write(s)"
   ]
  },
  {
   "cell_type": "markdown",
   "metadata": {},
   "source": [
    "## Exercise #7a: Read file\n",
    "\n",
    "Write a script that performs the following operations on the `my_file.txt` file:\n",
    "\n",
    "  - Open and read this txt file\n",
    "  - Print out the first line\n",
    "  - Count the number of words\n",
    "  - Count the number of lines\n",
    "  - Create a dictionary of words with their frequencies"
   ]
  },
  {
   "cell_type": "code",
   "execution_count": null,
   "metadata": {},
   "outputs": [],
   "source": [
    "with open('text/mytext.txt', 'r') as f:\n",
    "    print(f.readline())\n",
    "\n",
    "with open('text/mytext.txt', 'r') as f:\n",
    "    wordcount = 0\n",
    "    linecount = 0\n",
    "    worddict = {}\n",
    "    for line in f:\n",
    "        linecount += 1\n",
    "        words = line.split(\" \")\n",
    "        for word in words:\n",
    "            wordcount += 1\n",
    "            worddict[word] = worddict.get(word,0) + 1\n",
    "            \n",
    "    print('Wordcount: ', wordcount)\n",
    "    print('Linecount: ', linecount)\n",
    "    print(worddict)\n",
    "        \n",
    "    "
   ]
  },
  {
   "cell_type": "markdown",
   "metadata": {},
   "source": [
    "# JSON\n",
    "\n",
    "JSON (JavaScript Object Notation) is a lightweight data-interchange format, inspired by the JavaScript object literal syntax.\n",
    "\n",
    "See also:\n",
    "  - [JSON syntax](https://www.w3schools.com/js/js_json_syntax.asp)\n",
    "  - [JSON Pretty Print](http://jsonprettyprint.com/)"
   ]
  },
  {
   "cell_type": "markdown",
   "metadata": {},
   "source": [
    "Import `json` module."
   ]
  },
  {
   "cell_type": "code",
   "execution_count": 7,
   "metadata": {},
   "outputs": [],
   "source": [
    "import json"
   ]
  },
  {
   "cell_type": "markdown",
   "metadata": {},
   "source": [
    "## Encoding\n",
    "\n",
    "* Use `json.dumps(value)` to create a string.\n",
    "* Use `json.dump(value, file)` to write to file.\n",
    "\n",
    "The following translations are supported by default:\n",
    "\n",
    "| Python | JSON |\n",
    "| -- | -- |\n",
    "| dict | object |\n",
    "| list, tuple | array |\n",
    "| str | string |\n",
    "| int, float, int- & float-derived Enums | number |\n",
    "| True | true |\n",
    "| False | false |\n",
    "| None | null |"
   ]
  },
  {
   "cell_type": "markdown",
   "metadata": {},
   "source": [
    "Some values we want to encode as JSON. Typically, we want to pack these into a single variable (often a dict)."
   ]
  },
  {
   "cell_type": "code",
   "execution_count": 8,
   "metadata": {},
   "outputs": [],
   "source": [
    "name = \"John Smith\"\n",
    "age = 32\n",
    "places = [\"Stavanger\", \"Oslo\", \"Trondheim\"]\n",
    "\n",
    "values = {\n",
    "    \"name\": name,\n",
    "    \"age\": age,\n",
    "    \"places\": places\n",
    "}"
   ]
  },
  {
   "cell_type": "markdown",
   "metadata": {},
   "source": [
    "Encode as JSON"
   ]
  },
  {
   "cell_type": "code",
   "execution_count": 9,
   "metadata": {},
   "outputs": [
    {
     "name": "stdout",
     "output_type": "stream",
     "text": [
      "{\"name\": \"John Smith\", \"age\": 32, \"places\": [\"Stavanger\", \"Oslo\", \"Trondheim\"]}\n"
     ]
    }
   ],
   "source": [
    "print(json.dumps(values))"
   ]
  },
  {
   "cell_type": "markdown",
   "metadata": {},
   "source": [
    "Encode with pretty printing"
   ]
  },
  {
   "cell_type": "code",
   "execution_count": 10,
   "metadata": {},
   "outputs": [
    {
     "name": "stdout",
     "output_type": "stream",
     "text": [
      "{\n",
      "    \"name\": \"John Smith\",\n",
      "    \"age\": 32,\n",
      "    \"places\": [\n",
      "        \"Stavanger\",\n",
      "        \"Oslo\",\n",
      "        \"Trondheim\"\n",
      "    ]\n",
      "}\n"
     ]
    }
   ],
   "source": [
    "print(json.dumps(values, indent=4))"
   ]
  },
  {
   "cell_type": "markdown",
   "metadata": {},
   "source": [
    "Write JSON data into file"
   ]
  },
  {
   "cell_type": "code",
   "execution_count": 11,
   "metadata": {},
   "outputs": [],
   "source": [
    "with open(\"data.json\", \"w\") as f: \n",
    "    json.dump(values, f) "
   ]
  },
  {
   "cell_type": "markdown",
   "metadata": {},
   "source": [
    "## Decoding\n",
    "\n",
    "* Use `json.loads(data)` to read from a string.\n",
    "* Use `json.load(file)` to read from file.\n",
    "* Both return a string.\n",
    "\n",
    "The following translations are performed by default:\n",
    "\n",
    "| JSON | Python |\n",
    "| -- | -- |\n",
    "| object | dict |\n",
    "| array | list |\n",
    "| string | str |\n",
    "| number (int) | int |\n",
    "| number (real) | float |\n",
    "| true | True |\n",
    "| false | False |\n",
    "| null | None |"
   ]
  },
  {
   "cell_type": "markdown",
   "metadata": {},
   "source": [
    "Some data in JSON we wish to decode"
   ]
  },
  {
   "cell_type": "code",
   "execution_count": 12,
   "metadata": {},
   "outputs": [],
   "source": [
    "data = '[\"foo\", {\"bar\":[\"baz\", null, 1.0, 2]}]'"
   ]
  },
  {
   "cell_type": "markdown",
   "metadata": {},
   "source": [
    "Decode"
   ]
  },
  {
   "cell_type": "code",
   "execution_count": 13,
   "metadata": {},
   "outputs": [
    {
     "name": "stdout",
     "output_type": "stream",
     "text": [
      "['foo', {'bar': ['baz', None, 1.0, 2]}]\n"
     ]
    }
   ],
   "source": [
    "val = json.loads(data)\n",
    "print(val)"
   ]
  },
  {
   "cell_type": "markdown",
   "metadata": {},
   "source": [
    "Load JSON data from file"
   ]
  },
  {
   "cell_type": "code",
   "execution_count": 14,
   "metadata": {},
   "outputs": [
    {
     "name": "stdout",
     "output_type": "stream",
     "text": [
      "{'name': 'John Smith', 'age': 32, 'places': ['Stavanger', 'Oslo', 'Trondheim']}\n"
     ]
    }
   ],
   "source": [
    "with open(\"data.json\", \"r\") as f: \n",
    "    data = json.load(f)\n",
    "print(data)"
   ]
  },
  {
   "cell_type": "markdown",
   "metadata": {},
   "source": [
    "## Exercise #7b: JSON write\n",
    "\n",
    "Make a dictionary from the following keys and values, and write that dictionary into a JSON file:\n",
    "\n",
    "```\n",
    "keys = [1,2,3,4,5]\n",
    "values = [\"I\", \"love\", \"python\", \"very\", \"much\"]\n",
    "```"
   ]
  },
  {
   "cell_type": "code",
   "execution_count": 15,
   "metadata": {},
   "outputs": [
    {
     "data": {
      "text/plain": [
       "{1: 'I', 2: 'love', 3: 'python', 4: 'very', 5: 'much'}"
      ]
     },
     "execution_count": 15,
     "metadata": {},
     "output_type": "execute_result"
    }
   ],
   "source": [
    "keys = [1,2,3,4,5]\n",
    "values = [\"I\",\"love\", \"python\", \"very\", \"much\"]\n",
    "\n",
    "mydict = {}\n",
    "for i in keys:\n",
    "    mydict[i] = values[i-1]\n",
    "    \n",
    "with open('exercise.json', 'w') as f:\n",
    "    data = json.dump(f)"
   ]
  },
  {
   "cell_type": "markdown",
   "metadata": {},
   "source": [
    "## Pickle\n",
    "To store and retrieve arbitrarily complex python objects, use `pickle` module.\n",
    "https://docs.python.org/3/library/pickle.html#data-stream-format"
   ]
  },
  {
   "cell_type": "code",
   "execution_count": null,
   "metadata": {},
   "outputs": [],
   "source": []
  }
 ],
 "metadata": {
  "kernelspec": {
   "display_name": "Python 3",
   "language": "python",
   "name": "python3"
  },
  "language_info": {
   "codemirror_mode": {
    "name": "ipython",
    "version": 3
   },
   "file_extension": ".py",
   "mimetype": "text/x-python",
   "name": "python",
   "nbconvert_exporter": "python",
   "pygments_lexer": "ipython3",
   "version": "3.7.2"
  }
 },
 "nbformat": 4,
 "nbformat_minor": 2
}
